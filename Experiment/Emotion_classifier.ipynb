{
 "cells": [
  {
   "cell_type": "code",
   "execution_count": 1,
   "id": "e3ed724f",
   "metadata": {},
   "outputs": [
    {
     "data": {
      "text/plain": [
       "'e:\\\\Personal Files\\\\Learning Programming\\\\Data Science\\\\Projects\\\\Sentiment_Analysis\\\\Experiment'"
      ]
     },
     "execution_count": 1,
     "metadata": {},
     "output_type": "execute_result"
    }
   ],
   "source": [
    "%pwd"
   ]
  },
  {
   "cell_type": "code",
   "execution_count": 2,
   "id": "4ce04765",
   "metadata": {},
   "outputs": [],
   "source": [
    "import os\n",
    "os.chdir(\"../\")"
   ]
  },
  {
   "cell_type": "code",
   "execution_count": 3,
   "id": "9d006244",
   "metadata": {},
   "outputs": [
    {
     "data": {
      "text/plain": [
       "'e:\\\\Personal Files\\\\Learning Programming\\\\Data Science\\\\Projects\\\\Sentiment_Analysis'"
      ]
     },
     "execution_count": 3,
     "metadata": {},
     "output_type": "execute_result"
    }
   ],
   "source": [
    "os.getcwd()"
   ]
  },
  {
   "cell_type": "markdown",
   "id": "aa3d34e4",
   "metadata": {},
   "source": [
    "## 1. Data Collection"
   ]
  },
  {
   "cell_type": "code",
   "execution_count": 4,
   "id": "95700640",
   "metadata": {},
   "outputs": [
    {
     "data": {
      "text/html": [
       "<div>\n",
       "<style scoped>\n",
       "    .dataframe tbody tr th:only-of-type {\n",
       "        vertical-align: middle;\n",
       "    }\n",
       "\n",
       "    .dataframe tbody tr th {\n",
       "        vertical-align: top;\n",
       "    }\n",
       "\n",
       "    .dataframe thead th {\n",
       "        text-align: right;\n",
       "    }\n",
       "</style>\n",
       "<table border=\"1\" class=\"dataframe\">\n",
       "  <thead>\n",
       "    <tr style=\"text-align: right;\">\n",
       "      <th></th>\n",
       "      <th>text</th>\n",
       "      <th>label</th>\n",
       "      <th>label_name</th>\n",
       "    </tr>\n",
       "  </thead>\n",
       "  <tbody>\n",
       "    <tr>\n",
       "      <th>0</th>\n",
       "      <td>My heart is full of joy and contentment right ...</td>\n",
       "      <td>0</td>\n",
       "      <td>Joy</td>\n",
       "    </tr>\n",
       "    <tr>\n",
       "      <th>1</th>\n",
       "      <td>I'm beaming with pride after this incredible a...</td>\n",
       "      <td>0</td>\n",
       "      <td>Joy</td>\n",
       "    </tr>\n",
       "    <tr>\n",
       "      <th>2</th>\n",
       "      <td>I'm overwhelmed by this profound sense of loss.</td>\n",
       "      <td>4</td>\n",
       "      <td>Sad</td>\n",
       "    </tr>\n",
       "    <tr>\n",
       "      <th>3</th>\n",
       "      <td>This deliberate sabotage has pushed me over th...</td>\n",
       "      <td>3</td>\n",
       "      <td>Angry</td>\n",
       "    </tr>\n",
       "    <tr>\n",
       "      <th>4</th>\n",
       "      <td>What a beautiful sunny day to be alive!</td>\n",
       "      <td>0</td>\n",
       "      <td>Joy</td>\n",
       "    </tr>\n",
       "  </tbody>\n",
       "</table>\n",
       "</div>"
      ],
      "text/plain": [
       "                                                text  label label_name\n",
       "0  My heart is full of joy and contentment right ...      0        Joy\n",
       "1  I'm beaming with pride after this incredible a...      0        Joy\n",
       "2    I'm overwhelmed by this profound sense of loss.      4        Sad\n",
       "3  This deliberate sabotage has pushed me over th...      3      Angry\n",
       "4            What a beautiful sunny day to be alive!      0        Joy"
      ]
     },
     "execution_count": 4,
     "metadata": {},
     "output_type": "execute_result"
    }
   ],
   "source": [
    "import pandas as pd\n",
    "df = pd.read_csv(\"Dataset/sentiment_analysis_final_dataset.csv\")\n",
    "df.head()"
   ]
  },
  {
   "cell_type": "code",
   "execution_count": 5,
   "id": "a2121e91",
   "metadata": {},
   "outputs": [
    {
     "data": {
      "text/plain": [
       "(33280, 3)"
      ]
     },
     "execution_count": 5,
     "metadata": {},
     "output_type": "execute_result"
    }
   ],
   "source": [
    "df.shape"
   ]
  },
  {
   "cell_type": "code",
   "execution_count": 6,
   "id": "f0499f2a",
   "metadata": {},
   "outputs": [
    {
     "name": "stdout",
     "output_type": "stream",
     "text": [
      "<class 'pandas.core.frame.DataFrame'>\n",
      "RangeIndex: 33280 entries, 0 to 33279\n",
      "Data columns (total 3 columns):\n",
      " #   Column      Non-Null Count  Dtype \n",
      "---  ------      --------------  ----- \n",
      " 0   text        33280 non-null  object\n",
      " 1   label       33280 non-null  int64 \n",
      " 2   label_name  33280 non-null  object\n",
      "dtypes: int64(1), object(2)\n",
      "memory usage: 780.1+ KB\n"
     ]
    }
   ],
   "source": [
    "df.info()"
   ]
  },
  {
   "cell_type": "code",
   "execution_count": 7,
   "id": "61d4d4f8",
   "metadata": {},
   "outputs": [
    {
     "data": {
      "text/plain": [
       "text          0\n",
       "label         0\n",
       "label_name    0\n",
       "dtype: int64"
      ]
     },
     "execution_count": 7,
     "metadata": {},
     "output_type": "execute_result"
    }
   ],
   "source": [
    "df.isnull().sum()"
   ]
  },
  {
   "cell_type": "code",
   "execution_count": 8,
   "id": "2c5ef071",
   "metadata": {},
   "outputs": [
    {
     "data": {
      "text/html": [
       "<div>\n",
       "<style scoped>\n",
       "    .dataframe tbody tr th:only-of-type {\n",
       "        vertical-align: middle;\n",
       "    }\n",
       "\n",
       "    .dataframe tbody tr th {\n",
       "        vertical-align: top;\n",
       "    }\n",
       "\n",
       "    .dataframe thead th {\n",
       "        text-align: right;\n",
       "    }\n",
       "</style>\n",
       "<table border=\"1\" class=\"dataframe\">\n",
       "  <thead>\n",
       "    <tr style=\"text-align: right;\">\n",
       "      <th></th>\n",
       "      <th>text</th>\n",
       "      <th>label</th>\n",
       "      <th>label_name</th>\n",
       "    </tr>\n",
       "  </thead>\n",
       "  <tbody>\n",
       "    <tr>\n",
       "      <th>count</th>\n",
       "      <td>33280</td>\n",
       "      <td>33280.000000</td>\n",
       "      <td>33280</td>\n",
       "    </tr>\n",
       "    <tr>\n",
       "      <th>unique</th>\n",
       "      <td>11815</td>\n",
       "      <td>NaN</td>\n",
       "      <td>5</td>\n",
       "    </tr>\n",
       "    <tr>\n",
       "      <th>top</th>\n",
       "      <td>Outraged by unfair treatment and injustice.</td>\n",
       "      <td>NaN</td>\n",
       "      <td>Joy</td>\n",
       "    </tr>\n",
       "    <tr>\n",
       "      <th>freq</th>\n",
       "      <td>303</td>\n",
       "      <td>NaN</td>\n",
       "      <td>8363</td>\n",
       "    </tr>\n",
       "    <tr>\n",
       "      <th>mean</th>\n",
       "      <td>NaN</td>\n",
       "      <td>1.977494</td>\n",
       "      <td>NaN</td>\n",
       "    </tr>\n",
       "    <tr>\n",
       "      <th>std</th>\n",
       "      <td>NaN</td>\n",
       "      <td>1.520201</td>\n",
       "      <td>NaN</td>\n",
       "    </tr>\n",
       "    <tr>\n",
       "      <th>min</th>\n",
       "      <td>NaN</td>\n",
       "      <td>0.000000</td>\n",
       "      <td>NaN</td>\n",
       "    </tr>\n",
       "    <tr>\n",
       "      <th>25%</th>\n",
       "      <td>NaN</td>\n",
       "      <td>0.000000</td>\n",
       "      <td>NaN</td>\n",
       "    </tr>\n",
       "    <tr>\n",
       "      <th>50%</th>\n",
       "      <td>NaN</td>\n",
       "      <td>2.000000</td>\n",
       "      <td>NaN</td>\n",
       "    </tr>\n",
       "    <tr>\n",
       "      <th>75%</th>\n",
       "      <td>NaN</td>\n",
       "      <td>3.000000</td>\n",
       "      <td>NaN</td>\n",
       "    </tr>\n",
       "    <tr>\n",
       "      <th>max</th>\n",
       "      <td>NaN</td>\n",
       "      <td>4.000000</td>\n",
       "      <td>NaN</td>\n",
       "    </tr>\n",
       "  </tbody>\n",
       "</table>\n",
       "</div>"
      ],
      "text/plain": [
       "                                               text         label label_name\n",
       "count                                         33280  33280.000000      33280\n",
       "unique                                        11815           NaN          5\n",
       "top     Outraged by unfair treatment and injustice.           NaN        Joy\n",
       "freq                                            303           NaN       8363\n",
       "mean                                            NaN      1.977494        NaN\n",
       "std                                             NaN      1.520201        NaN\n",
       "min                                             NaN      0.000000        NaN\n",
       "25%                                             NaN      0.000000        NaN\n",
       "50%                                             NaN      2.000000        NaN\n",
       "75%                                             NaN      3.000000        NaN\n",
       "max                                             NaN      4.000000        NaN"
      ]
     },
     "execution_count": 8,
     "metadata": {},
     "output_type": "execute_result"
    }
   ],
   "source": [
    "df.describe(include=\"all\")"
   ]
  },
  {
   "cell_type": "code",
   "execution_count": 9,
   "id": "306b79d1",
   "metadata": {},
   "outputs": [
    {
     "data": {
      "text/plain": [
       "Index(['text', 'label', 'label_name'], dtype='object')"
      ]
     },
     "execution_count": 9,
     "metadata": {},
     "output_type": "execute_result"
    }
   ],
   "source": [
    "df.columns = df.columns.str.lower()\n",
    "df.columns"
   ]
  },
  {
   "cell_type": "code",
   "execution_count": 10,
   "id": "6a0070d2",
   "metadata": {},
   "outputs": [
    {
     "data": {
      "text/plain": [
       "label\n",
       "0    8363\n",
       "4    7922\n",
       "3    5959\n",
       "1    5826\n",
       "2    5210\n",
       "Name: count, dtype: int64"
      ]
     },
     "execution_count": 10,
     "metadata": {},
     "output_type": "execute_result"
    }
   ],
   "source": [
    "df[\"label\"].value_counts()"
   ]
  },
  {
   "cell_type": "code",
   "execution_count": 11,
   "id": "9b870501",
   "metadata": {},
   "outputs": [
    {
     "data": {
      "text/plain": [
       "label_name\n",
       "Joy      8363\n",
       "Sad      7922\n",
       "Angry    5959\n",
       "Fear     5826\n",
       "Love     5210\n",
       "Name: count, dtype: int64"
      ]
     },
     "execution_count": 11,
     "metadata": {},
     "output_type": "execute_result"
    }
   ],
   "source": [
    "df[\"label_name\"].value_counts()"
   ]
  },
  {
   "cell_type": "markdown",
   "id": "98aef197",
   "metadata": {},
   "source": [
    "## 2. Dataset Analysis"
   ]
  },
  {
   "cell_type": "code",
   "execution_count": 12,
   "id": "6d467685",
   "metadata": {},
   "outputs": [],
   "source": [
    "import matplotlib.pyplot as plt\n",
    "import seaborn as sns"
   ]
  },
  {
   "cell_type": "code",
   "execution_count": 13,
   "id": "3f50aa04",
   "metadata": {},
   "outputs": [
    {
     "data": {
      "text/plain": [
       "label_name\n",
       "Love     5210\n",
       "Fear     5826\n",
       "Angry    5959\n",
       "Sad      7922\n",
       "Joy      8363\n",
       "Name: count, dtype: int64"
      ]
     },
     "execution_count": 13,
     "metadata": {},
     "output_type": "execute_result"
    }
   ],
   "source": [
    "label_counts = df[\"label_name\"].value_counts(ascending=True)\n",
    "label_counts"
   ]
  },
  {
   "cell_type": "code",
   "execution_count": 14,
   "id": "aba786cb",
   "metadata": {},
   "outputs": [
    {
     "data": {
      "image/png": "[encoded data removed]",
      "text/plain": [
       "<Figure size 640x480 with 1 Axes>"
      ]
     },
     "metadata": {},
     "output_type": "display_data"
    }
   ],
   "source": [
    "label_counts.plot.barh()\n",
    "plt.title(\"Frequency Classes\")\n",
    "plt.show()"
   ]
  },
  {
   "cell_type": "markdown",
   "id": "683c3d64",
   "metadata": {},
   "source": [
    "- Checking how many words are there in each text"
   ]
  },
  {
   "cell_type": "code",
   "execution_count": 15,
   "id": "63209c00",
   "metadata": {},
   "outputs": [],
   "source": [
    "df[\"words_per_tweet\"] = df[\"text\"].str.split().apply(len)\n",
    "df.head()\n",
    "df.to_csv(\"Dataset/sentiment_analysis_final_dataset_word_count.csv\", index=False) "
   ]
  },
  {
   "cell_type": "code",
   "execution_count": 16,
   "id": "80b148ec",
   "metadata": {},
   "outputs": [
    {
     "data": {
      "image/png": "[encoded data removed]",
      "text/plain": [
       "<Figure size 800x800 with 1 Axes>"
      ]
     },
     "metadata": {},
     "output_type": "display_data"
    }
   ],
   "source": [
    "plt.figure(figsize= (8, 8))\n",
    "\n",
    "sns.histplot(df['words_per_tweet'], bins=35, kde=True)\n",
    "\n",
    "plt.xlim(0, 80)\n",
    "\n",
    "plt.xlabel('The num of words ', fontsize = 16)\n",
    "plt.title(\"The Number of Words Distribution\", fontsize = 18)\n",
    "plt.show()"
   ]
  },
  {
   "cell_type": "code",
   "execution_count": 17,
   "id": "98162879",
   "metadata": {},
   "outputs": [
    {
     "data": {
      "text/plain": [
       "<Axes: title={'center': 'words_per_tweet'}, xlabel='label_name'>"
      ]
     },
     "execution_count": 17,
     "metadata": {},
     "output_type": "execute_result"
    },
    {
     "data": {
      "image/png": "[encoded data removed]",
      "text/plain": [
       "<Figure size 640x480 with 1 Axes>"
      ]
     },
     "metadata": {},
     "output_type": "display_data"
    }
   ],
   "source": [
    "df.boxplot(column=\"words_per_tweet\",by=\"label_name\")"
   ]
  },
  {
   "cell_type": "markdown",
   "id": "f150364f",
   "metadata": {},
   "source": [
    "- We found in each text there is about 10-20 words present on average\n",
    "- It is a skewed data"
   ]
  },
  {
   "cell_type": "markdown",
   "id": "f2e2c627",
   "metadata": {},
   "source": [
    "## 3. Data Loader and Train Test Split\n",
    "- As Transformer cannot work with the Data Frame\n",
    "- Need to Convert to the Data Set Dictornary"
   ]
  },
  {
   "cell_type": "code",
   "execution_count": 18,
   "id": "d707a091",
   "metadata": {},
   "outputs": [
    {
     "data": {
      "text/plain": [
       "((23296, 4), (3328, 4), (6656, 4))"
      ]
     },
     "execution_count": 18,
     "metadata": {},
     "output_type": "execute_result"
    }
   ],
   "source": [
    "from sklearn.model_selection import train_test_split\n",
    "\n",
    "train,test = train_test_split(df,test_size=0.3, stratify=df[\"label_name\"])\n",
    "test,validation = train_test_split(test,test_size=1/3,stratify=test[\"label_name\"])\n",
    "\n",
    "train.shape, validation.shape, test.shape"
   ]
  },
  {
   "cell_type": "code",
   "execution_count": 19,
   "id": "5e860d6e",
   "metadata": {},
   "outputs": [
    {
     "name": "stderr",
     "output_type": "stream",
     "text": [
      "e:\\Personal Files\\Learning Programming\\Data Science\\ds-env\\Lib\\site-packages\\tqdm\\auto.py:21: TqdmWarning: IProgress not found. Please update jupyter and ipywidgets. See https://ipywidgets.readthedocs.io/en/stable/user_install.html\n",
      "  from .autonotebook import tqdm as notebook_tqdm\n"
     ]
    },
    {
     "data": {
      "text/plain": [
       "DatasetDict({\n",
       "    train: Dataset({\n",
       "        features: ['text', 'label', 'label_name', 'words_per_tweet'],\n",
       "        num_rows: 23296\n",
       "    })\n",
       "    test: Dataset({\n",
       "        features: ['text', 'label', 'label_name', 'words_per_tweet'],\n",
       "        num_rows: 6656\n",
       "    })\n",
       "    validation: Dataset({\n",
       "        features: ['text', 'label', 'label_name', 'words_per_tweet'],\n",
       "        num_rows: 3328\n",
       "    })\n",
       "})"
      ]
     },
     "execution_count": 19,
     "metadata": {},
     "output_type": "execute_result"
    }
   ],
   "source": [
    "from datasets import Dataset, DatasetDict\n",
    "\n",
    "dataset = DatasetDict(\n",
    "    {\n",
    "        \"train\":Dataset.from_pandas(train, preserve_index=False),\n",
    "        \"test\":Dataset.from_pandas(test, preserve_index=False),\n",
    "        \"validation\":Dataset.from_pandas(validation, preserve_index=False)\n",
    "    }\n",
    ")\n",
    "dataset"
   ]
  },
  {
   "cell_type": "markdown",
   "id": "b6f9973c",
   "metadata": {},
   "source": [
    "## 3. Tokenize the Dataset\n",
    " -map() method would be used"
   ]
  },
  {
   "cell_type": "code",
   "execution_count": 20,
   "id": "6e32f1c7",
   "metadata": {},
   "outputs": [
    {
     "name": "stdout",
     "output_type": "stream",
     "text": [
      "{'input_ids': [[101, 1045, 2074, 2066, 2308, 2017, 2036, 2514, 2023, 2003, 2010, 3606, 3993, 19647, 2791, 5956, 6180, 102, 0, 0, 0, 0, 0, 0, 0, 0, 0, 0, 0, 0, 0, 0, 0, 0, 0, 0, 0, 0, 0, 0], [101, 1045, 2514, 2066, 1996, 2518, 2008, 1045, 2655, 2019, 6018, 11765, 1999, 2870, 2003, 2428, 2074, 2474, 21254, 4757, 1998, 6583, 11890, 14643, 2964, 16114, 2075, 1998, 16003, 2169, 2060, 102, 0, 0, 0, 0, 0, 0, 0, 0]], 'token_type_ids': [[0, 0, 0, 0, 0, 0, 0, 0, 0, 0, 0, 0, 0, 0, 0, 0, 0, 0, 0, 0, 0, 0, 0, 0, 0, 0, 0, 0, 0, 0, 0, 0, 0, 0, 0, 0, 0, 0, 0, 0], [0, 0, 0, 0, 0, 0, 0, 0, 0, 0, 0, 0, 0, 0, 0, 0, 0, 0, 0, 0, 0, 0, 0, 0, 0, 0, 0, 0, 0, 0, 0, 0, 0, 0, 0, 0, 0, 0, 0, 0]], 'attention_mask': [[1, 1, 1, 1, 1, 1, 1, 1, 1, 1, 1, 1, 1, 1, 1, 1, 1, 1, 0, 0, 0, 0, 0, 0, 0, 0, 0, 0, 0, 0, 0, 0, 0, 0, 0, 0, 0, 0, 0, 0], [1, 1, 1, 1, 1, 1, 1, 1, 1, 1, 1, 1, 1, 1, 1, 1, 1, 1, 1, 1, 1, 1, 1, 1, 1, 1, 1, 1, 1, 1, 1, 1, 0, 0, 0, 0, 0, 0, 0, 0]]}\n"
     ]
    }
   ],
   "source": [
    "import tqdm # for showing the progress bar\n",
    "from transformers import BertTokenizer\n",
    "model_ckpt = \"bert-base-uncased\"\n",
    "tokenizer = BertTokenizer.from_pretrained(model_ckpt)\n",
    "def tokenize(batch):\n",
    "  temp =tokenizer(batch['text'], padding='max_length', truncation=True, max_length=40)\n",
    "  return temp\n",
    "\n",
    "print(tokenize(dataset[\"train\"][:2]))"
   ]
  },
  {
   "cell_type": "code",
   "execution_count": 21,
   "id": "84bca010",
   "metadata": {},
   "outputs": [
    {
     "name": "stderr",
     "output_type": "stream",
     "text": [
      "Map: 100%|██████████| 23296/23296 [00:06<00:00, 3527.68 examples/s]\n",
      "Map: 100%|██████████| 6656/6656 [00:01<00:00, 3616.77 examples/s]\n",
      "Map: 100%|██████████| 3328/3328 [00:00<00:00, 3670.20 examples/s]\n"
     ]
    }
   ],
   "source": [
    "encoded_dataset = dataset.map(tokenize,batched=True,remove_columns=[\"label_name\",\"words_per_tweet\"])\n",
    "encoded_dataset = encoded_dataset.rename_column(\"label\", \"labels\")\n",
    "encoded_dataset.set_format(type=\"torch\", columns=[\"input_ids\", \"attention_mask\", \"labels\"])\n"
   ]
  },
  {
   "cell_type": "code",
   "execution_count": 22,
   "id": "e387dc8a",
   "metadata": {},
   "outputs": [
    {
     "data": {
      "text/plain": [
       "DatasetDict({\n",
       "    train: Dataset({\n",
       "        features: ['text', 'labels', 'input_ids', 'token_type_ids', 'attention_mask'],\n",
       "        num_rows: 23296\n",
       "    })\n",
       "    test: Dataset({\n",
       "        features: ['text', 'labels', 'input_ids', 'token_type_ids', 'attention_mask'],\n",
       "        num_rows: 6656\n",
       "    })\n",
       "    validation: Dataset({\n",
       "        features: ['text', 'labels', 'input_ids', 'token_type_ids', 'attention_mask'],\n",
       "        num_rows: 3328\n",
       "    })\n",
       "})"
      ]
     },
     "execution_count": 22,
     "metadata": {},
     "output_type": "execute_result"
    }
   ],
   "source": [
    "encoded_dataset"
   ]
  },
  {
   "cell_type": "markdown",
   "id": "160432bf",
   "metadata": {},
   "source": [
    "## 4. Model Building (Pretrained BERT for Sequence Classification)"
   ]
  },
  {
   "cell_type": "code",
   "execution_count": 23,
   "id": "3d4572ea",
   "metadata": {},
   "outputs": [],
   "source": [
    "#lable2id and id2lable\n",
    "label2id = {x[\"label_name\"]:x[\"label\"] for x in dataset[\"train\"]}\n",
    "id2label = {v:k for k,v in label2id.items()}"
   ]
  },
  {
   "cell_type": "code",
   "execution_count": 24,
   "id": "51fb2315",
   "metadata": {},
   "outputs": [
    {
     "data": {
      "text/plain": [
       "({'Joy': 0, 'Angry': 3, 'Sad': 4, 'Fear': 1, 'Love': 2},\n",
       " {0: 'Joy', 3: 'Angry', 4: 'Sad', 1: 'Fear', 2: 'Love'})"
      ]
     },
     "execution_count": 24,
     "metadata": {},
     "output_type": "execute_result"
    }
   ],
   "source": [
    "label2id,id2label"
   ]
  },
  {
   "cell_type": "code",
   "execution_count": 25,
   "id": "fdb5a787",
   "metadata": {},
   "outputs": [
    {
     "name": "stderr",
     "output_type": "stream",
     "text": [
      "Some weights of BertForSequenceClassification were not initialized from the model checkpoint at bert-base-uncased and are newly initialized: ['classifier.bias', 'classifier.weight']\n",
      "You should probably TRAIN this model on a down-stream task to be able to use it for predictions and inference.\n"
     ]
    }
   ],
   "source": [
    "from transformers import BertForSequenceClassification\n",
    "\n",
    "model = BertForSequenceClassification.from_pretrained(\n",
    "    \"bert-base-uncased\",\n",
    "    num_labels=5,\n",
    "    id2label=id2label,\n",
    "    label2id=label2id\n",
    ")"
   ]
  },
  {
   "cell_type": "code",
   "execution_count": 26,
   "id": "76c04ae7",
   "metadata": {},
   "outputs": [
    {
     "data": {
      "text/plain": [
       "BertForSequenceClassification(\n",
       "  (bert): BertModel(\n",
       "    (embeddings): BertEmbeddings(\n",
       "      (word_embeddings): Embedding(30522, 768, padding_idx=0)\n",
       "      (position_embeddings): Embedding(512, 768)\n",
       "      (token_type_embeddings): Embedding(2, 768)\n",
       "      (LayerNorm): LayerNorm((768,), eps=1e-12, elementwise_affine=True)\n",
       "      (dropout): Dropout(p=0.1, inplace=False)\n",
       "    )\n",
       "    (encoder): BertEncoder(\n",
       "      (layer): ModuleList(\n",
       "        (0-11): 12 x BertLayer(\n",
       "          (attention): BertAttention(\n",
       "            (self): BertSdpaSelfAttention(\n",
       "              (query): Linear(in_features=768, out_features=768, bias=True)\n",
       "              (key): Linear(in_features=768, out_features=768, bias=True)\n",
       "              (value): Linear(in_features=768, out_features=768, bias=True)\n",
       "              (dropout): Dropout(p=0.1, inplace=False)\n",
       "            )\n",
       "            (output): BertSelfOutput(\n",
       "              (dense): Linear(in_features=768, out_features=768, bias=True)\n",
       "              (LayerNorm): LayerNorm((768,), eps=1e-12, elementwise_affine=True)\n",
       "              (dropout): Dropout(p=0.1, inplace=False)\n",
       "            )\n",
       "          )\n",
       "          (intermediate): BertIntermediate(\n",
       "            (dense): Linear(in_features=768, out_features=3072, bias=True)\n",
       "            (intermediate_act_fn): GELUActivation()\n",
       "          )\n",
       "          (output): BertOutput(\n",
       "            (dense): Linear(in_features=3072, out_features=768, bias=True)\n",
       "            (LayerNorm): LayerNorm((768,), eps=1e-12, elementwise_affine=True)\n",
       "            (dropout): Dropout(p=0.1, inplace=False)\n",
       "          )\n",
       "        )\n",
       "      )\n",
       "    )\n",
       "    (pooler): BertPooler(\n",
       "      (dense): Linear(in_features=768, out_features=768, bias=True)\n",
       "      (activation): Tanh()\n",
       "    )\n",
       "  )\n",
       "  (dropout): Dropout(p=0.1, inplace=False)\n",
       "  (classifier): Linear(in_features=768, out_features=5, bias=True)\n",
       ")"
      ]
     },
     "execution_count": 26,
     "metadata": {},
     "output_type": "execute_result"
    }
   ],
   "source": [
    "model"
   ]
  },
  {
   "cell_type": "code",
   "execution_count": 27,
   "id": "79474d28",
   "metadata": {},
   "outputs": [
    {
     "data": {
      "text/plain": [
       "{'Joy': 0, 'Angry': 3, 'Sad': 4, 'Fear': 1, 'Love': 2}"
      ]
     },
     "execution_count": 27,
     "metadata": {},
     "output_type": "execute_result"
    }
   ],
   "source": [
    "model.config.label2id"
   ]
  },
  {
   "cell_type": "markdown",
   "id": "c1c12495",
   "metadata": {},
   "source": [
    "## 5. Define Training Arguments"
   ]
  },
  {
   "cell_type": "code",
   "execution_count": 28,
   "id": "fbaf2e55",
   "metadata": {},
   "outputs": [
    {
     "name": "stdout",
     "output_type": "stream",
     "text": [
      "WARNING:tensorflow:From e:\\Personal Files\\Learning Programming\\Data Science\\ds-env\\Lib\\site-packages\\tf_keras\\src\\losses.py:2976: The name tf.losses.sparse_softmax_cross_entropy is deprecated. Please use tf.compat.v1.losses.sparse_softmax_cross_entropy instead.\n",
      "\n"
     ]
    }
   ],
   "source": [
    "from transformers import TrainingArguments\n",
    "\n",
    "batch_size = 64\n",
    "training_dir = \"./model_result\"\n",
    "\n",
    "training_arg = TrainingArguments(\n",
    "    output_dir=training_dir,\n",
    "    overwrite_output_dir=True,\n",
    "    num_train_epochs=3,\n",
    "    learning_rate=2e-5,\n",
    "    per_device_train_batch_size=batch_size,\n",
    "    per_device_eval_batch_size=batch_size,\n",
    "    weight_decay=1e-5,\n",
    "    disable_tqdm=False,\n",
    "    eval_strategy=\"steps\",              # replaces evaluate_during_training\n",
    "    save_strategy=\"steps\",# replaces evaluate_during_training\n",
    "    eval_steps=100,\n",
    "    load_best_model_at_end=True\n",
    ")"
   ]
  },
  {
   "cell_type": "markdown",
   "id": "42cd5edc",
   "metadata": {},
   "source": [
    "## 6. Build Compute Matrix"
   ]
  },
  {
   "cell_type": "code",
   "execution_count": 29,
   "id": "245174c4",
   "metadata": {},
   "outputs": [],
   "source": [
    "# using Evalutae\n",
    "import evaluate\n",
    "import numpy as np\n",
    "\n",
    "accuracy = evaluate.load(\"accuracy\")\n",
    "\n",
    "def compute_metrics_evaluate(eval_pred):\n",
    "    predictions, labels = eval_pred\n",
    "    predictions = np.argmax(predictions,axis=1)\n",
    "    return accuracy.compute(predictions=predictions, references=labels)\n",
    "\n",
    "# using sklearn\n",
    "from sklearn.metrics import accuracy_score,f1_score\n",
    "\n",
    "def compute_metrics_sklearn(pred):\n",
    "    labels = pred.label_ids\n",
    "    preds = pred.predictions.argmax(-1)\n",
    "    \n",
    "    f1 = f1_score(labels, preds, average=\"weighted\")\n",
    "    acc = accuracy_score(labels,preds)\n",
    "    \n",
    "    return {\"accuracy\":acc , \"f1\" : f1}"
   ]
  },
  {
   "cell_type": "markdown",
   "id": "e690dd2a",
   "metadata": {},
   "source": [
    "## 7. Initialize Trainer"
   ]
  },
  {
   "cell_type": "code",
   "execution_count": 30,
   "id": "b6d4a41b",
   "metadata": {},
   "outputs": [
    {
     "name": "stderr",
     "output_type": "stream",
     "text": [
      "C:\\Users\\SUMIT\\AppData\\Local\\Temp\\ipykernel_26348\\3453222189.py:3: FutureWarning: `tokenizer` is deprecated and will be removed in version 5.0.0 for `Trainer.__init__`. Use `processing_class` instead.\n",
      "  trainer = Trainer(\n"
     ]
    }
   ],
   "source": [
    "from transformers import Trainer\n",
    "\n",
    "trainer = Trainer(\n",
    "    model=model, \n",
    "    args=training_arg,\n",
    "    compute_metrics=compute_metrics_sklearn,\n",
    "    train_dataset=encoded_dataset['train'],\n",
    "    eval_dataset=encoded_dataset['validation'],\n",
    "    tokenizer=tokenizer\n",
    ")"
   ]
  },
  {
   "cell_type": "markdown",
   "id": "2d8e4153",
   "metadata": {},
   "source": [
    "## 8. Fine Tune Model"
   ]
  },
  {
   "cell_type": "code",
   "execution_count": 31,
   "id": "ca20328e",
   "metadata": {},
   "outputs": [
    {
     "data": {
      "text/html": [
       "\n",
       "    <div>\n",
       "      \n",
       "      <progress value='1092' max='1092' style='width:300px; height:20px; vertical-align: middle;'></progress>\n",
       "      [1092/1092 17:54, Epoch 3/3]\n",
       "    </div>\n",
       "    <table border=\"1\" class=\"dataframe\">\n",
       "  <thead>\n",
       " <tr style=\"text-align: left;\">\n",
       "      <th>Step</th>\n",
       "      <th>Training Loss</th>\n",
       "      <th>Validation Loss</th>\n",
       "      <th>Accuracy</th>\n",
       "      <th>F1</th>\n",
       "    </tr>\n",
       "  </thead>\n",
       "  <tbody>\n",
       "    <tr>\n",
       "      <td>100</td>\n",
       "      <td>No log</td>\n",
       "      <td>0.278232</td>\n",
       "      <td>0.921875</td>\n",
       "      <td>0.921871</td>\n",
       "    </tr>\n",
       "    <tr>\n",
       "      <td>200</td>\n",
       "      <td>No log</td>\n",
       "      <td>0.149096</td>\n",
       "      <td>0.954026</td>\n",
       "      <td>0.953971</td>\n",
       "    </tr>\n",
       "    <tr>\n",
       "      <td>300</td>\n",
       "      <td>No log</td>\n",
       "      <td>0.110257</td>\n",
       "      <td>0.966046</td>\n",
       "      <td>0.966062</td>\n",
       "    </tr>\n",
       "    <tr>\n",
       "      <td>400</td>\n",
       "      <td>No log</td>\n",
       "      <td>0.103759</td>\n",
       "      <td>0.967849</td>\n",
       "      <td>0.967816</td>\n",
       "    </tr>\n",
       "    <tr>\n",
       "      <td>500</td>\n",
       "      <td>0.258400</td>\n",
       "      <td>0.090949</td>\n",
       "      <td>0.973858</td>\n",
       "      <td>0.973827</td>\n",
       "    </tr>\n",
       "    <tr>\n",
       "      <td>600</td>\n",
       "      <td>0.258400</td>\n",
       "      <td>0.077442</td>\n",
       "      <td>0.971755</td>\n",
       "      <td>0.971741</td>\n",
       "    </tr>\n",
       "    <tr>\n",
       "      <td>700</td>\n",
       "      <td>0.258400</td>\n",
       "      <td>0.069795</td>\n",
       "      <td>0.975361</td>\n",
       "      <td>0.975352</td>\n",
       "    </tr>\n",
       "    <tr>\n",
       "      <td>800</td>\n",
       "      <td>0.258400</td>\n",
       "      <td>0.074884</td>\n",
       "      <td>0.974760</td>\n",
       "      <td>0.974740</td>\n",
       "    </tr>\n",
       "    <tr>\n",
       "      <td>900</td>\n",
       "      <td>0.258400</td>\n",
       "      <td>0.072226</td>\n",
       "      <td>0.976562</td>\n",
       "      <td>0.976559</td>\n",
       "    </tr>\n",
       "    <tr>\n",
       "      <td>1000</td>\n",
       "      <td>0.041600</td>\n",
       "      <td>0.072492</td>\n",
       "      <td>0.976562</td>\n",
       "      <td>0.976544</td>\n",
       "    </tr>\n",
       "  </tbody>\n",
       "</table><p>"
      ],
      "text/plain": [
       "<IPython.core.display.HTML object>"
      ]
     },
     "metadata": {},
     "output_type": "display_data"
    },
    {
     "data": {
      "text/plain": [
       "TrainOutput(global_step=1092, training_loss=0.13997600672445892, metrics={'train_runtime': 1075.6258, 'train_samples_per_second': 64.974, 'train_steps_per_second': 1.015, 'total_flos': 1436625057853440.0, 'train_loss': 0.13997600672445892, 'epoch': 3.0})"
      ]
     },
     "execution_count": 31,
     "metadata": {},
     "output_type": "execute_result"
    }
   ],
   "source": [
    "import torch\n",
    "torch.cuda.empty_cache()\n",
    "trainer.train()"
   ]
  },
  {
   "cell_type": "markdown",
   "id": "40158349",
   "metadata": {},
   "source": [
    "## 7. Model Evaluation"
   ]
  },
  {
   "cell_type": "code",
   "execution_count": 32,
   "id": "a86d535e",
   "metadata": {},
   "outputs": [
    {
     "data": {
      "text/html": [],
      "text/plain": [
       "<IPython.core.display.HTML object>"
      ]
     },
     "metadata": {},
     "output_type": "display_data"
    },
    {
     "data": {
      "text/plain": [
       "{'test_loss': 0.08807368576526642,\n",
       " 'test_accuracy': 0.9741586538461539,\n",
       " 'test_f1': 0.9741607416265305,\n",
       " 'test_runtime': 29.8451,\n",
       " 'test_samples_per_second': 223.018,\n",
       " 'test_steps_per_second': 3.485}"
      ]
     },
     "execution_count": 32,
     "metadata": {},
     "output_type": "execute_result"
    }
   ],
   "source": [
    "preds_outputs = trainer.predict(encoded_dataset['test'])\n",
    "preds_outputs.metrics"
   ]
  },
  {
   "cell_type": "code",
   "execution_count": 33,
   "id": "298d7ca2",
   "metadata": {},
   "outputs": [
    {
     "data": {
      "text/plain": [
       "array([[-1.4508628 , -0.8551244 , -1.4878109 ,  5.4001813 , -1.7231914 ],\n",
       "       [-1.5347655 , -0.4152317 , -1.2984447 ,  5.104641  , -1.7860866 ],\n",
       "       [-1.5419248 , -1.6245731 ,  5.4496236 , -1.467318  , -1.4739988 ],\n",
       "       ...,\n",
       "       [-0.9555771 , -0.8314968 , -1.5353558 , -1.1677028 ,  5.8777366 ],\n",
       "       [-0.81161714,  5.893933  , -0.9767536 , -1.0399035 , -0.44013605],\n",
       "       [-1.2610735 , -0.6001154 , -1.2689872 , -1.2300264 ,  5.896839  ]],\n",
       "      dtype=float32)"
      ]
     },
     "execution_count": 33,
     "metadata": {},
     "output_type": "execute_result"
    }
   ],
   "source": [
    "preds_outputs.predictions"
   ]
  },
  {
   "cell_type": "code",
   "execution_count": 35,
   "id": "a2ec4ef2",
   "metadata": {},
   "outputs": [],
   "source": [
    "y_pred = np.argmax(preds_outputs.predictions, axis=1)\n",
    "y_true = encoded_dataset[\"test\"][:][\"labels\"]"
   ]
  },
  {
   "cell_type": "code",
   "execution_count": 36,
   "id": "5ce5bb98",
   "metadata": {},
   "outputs": [
    {
     "name": "stdout",
     "output_type": "stream",
     "text": [
      "              precision    recall  f1-score   support\n",
      "\n",
      "           0       0.97      0.97      0.97      1673\n",
      "           1       0.96      0.99      0.97      1165\n",
      "           2       0.97      0.97      0.97      1042\n",
      "           3       0.98      0.97      0.98      1192\n",
      "           4       0.98      0.98      0.98      1584\n",
      "\n",
      "    accuracy                           0.97      6656\n",
      "   macro avg       0.97      0.97      0.97      6656\n",
      "weighted avg       0.97      0.97      0.97      6656\n",
      "\n"
     ]
    }
   ],
   "source": [
    "from sklearn.metrics import classification_report\n",
    "print(classification_report(y_true,y_pred))"
   ]
  },
  {
   "cell_type": "code",
   "execution_count": 37,
   "id": "cfe8e165",
   "metadata": {},
   "outputs": [],
   "source": [
    "import seaborn as sns\n",
    "from sklearn.metrics import confusion_matrix\n",
    "import matplotlib.pyplot as plt"
   ]
  },
  {
   "cell_type": "code",
   "execution_count": 38,
   "id": "d97a8587",
   "metadata": {},
   "outputs": [
    {
     "data": {
      "image/png": "[encoded data removed]",
      "text/plain": [
       "<Figure size 500x500 with 1 Axes>"
      ]
     },
     "metadata": {},
     "output_type": "display_data"
    }
   ],
   "source": [
    "cm = confusion_matrix(y_true,y_pred)\n",
    "\n",
    "plt.figure(figsize=(5,5))\n",
    "sns.heatmap(cm, annot=True, xticklabels=list(label2id.keys()), yticklabels=list(label2id.keys()), fmt = \"d\", cbar = False, cmap=\"Reds\")\n",
    "plt.ylabel(\"Actual\")\n",
    "plt.xlabel(\"Predicted\")\n",
    "plt.show()"
   ]
  },
  {
   "cell_type": "markdown",
   "id": "36984081",
   "metadata": {},
   "source": [
    "## 8. Save Model"
   ]
  },
  {
   "cell_type": "code",
   "execution_count": 39,
   "id": "c748f2ff",
   "metadata": {},
   "outputs": [],
   "source": [
    "save_directory = './result'\n",
    "tokenizer.save_pretrained(save_directory)\n",
    "trainer.save_model(save_directory)\n"
   ]
  },
  {
   "cell_type": "markdown",
   "id": "7d278868",
   "metadata": {},
   "source": [
    "## 9. Prediction"
   ]
  },
  {
   "cell_type": "code",
   "execution_count": null,
   "id": "abb91ecd",
   "metadata": {},
   "outputs": [],
   "source": [
    "save_directory = './artifacts'\n",
    "from transformers import BertForSequenceClassification, BertTokenizer\n",
    "\n",
    "model_saved = BertForSequenceClassification.from_pretrained(save_directory)\n",
    "tokenizer_saved = BertTokenizer.from_pretrained(save_directory)"
   ]
  },
  {
   "cell_type": "code",
   "execution_count": null,
   "id": "979b2f85",
   "metadata": {},
   "outputs": [
    {
     "name": "stdout",
     "output_type": "stream",
     "text": [
      "{'input_ids': tensor([[ 101, 1045, 2572, 3565, 3407, 2651, 1012, 1045, 2288, 2009, 2589, 1012,\n",
      "         2633,  999,  999,  102]]), 'token_type_ids': tensor([[0, 0, 0, 0, 0, 0, 0, 0, 0, 0, 0, 0, 0, 0, 0, 0]]), 'attention_mask': tensor([[1, 1, 1, 1, 1, 1, 1, 1, 1, 1, 1, 1, 1, 1, 1, 1]])}\n"
     ]
    },
    {
     "ename": "AttributeError",
     "evalue": "'BaseModelOutputWithPoolingAndCrossAttentions' object has no attribute 'argmax'",
     "output_type": "error",
     "traceback": [
      "\u001b[31m---------------------------------------------------------------------------\u001b[39m",
      "\u001b[31mAttributeError\u001b[39m                            Traceback (most recent call last)",
      "\u001b[36mCell\u001b[39m\u001b[36m \u001b[39m\u001b[32mIn[66]\u001b[39m\u001b[32m, line 10\u001b[39m\n\u001b[32m      8\u001b[39m \u001b[38;5;28;01mwith\u001b[39;00m torch.no_grad():\n\u001b[32m      9\u001b[39m     outputs = model_fine_tuned_pt(**inputs)\n\u001b[32m---> \u001b[39m\u001b[32m10\u001b[39m     predicted_class_id = \u001b[43moutputs\u001b[49m\u001b[43m.\u001b[49m\u001b[43margmax\u001b[49m(dim=-\u001b[32m1\u001b[39m).item()\n\u001b[32m     11\u001b[39m     \u001b[38;5;28mprint\u001b[39m(outputs)\n",
      "\u001b[31mAttributeError\u001b[39m: 'BaseModelOutputWithPoolingAndCrossAttentions' object has no attribute 'argmax'"
     ]
    }
   ],
   "source": [
    "\n",
    "\n",
    "def predict_emotion(text):\n",
    "    inputs = tokenizer_saved(text, return_tensors=\"pt\", padding=True, truncation=True, max_length=128)\n",
    "    outputs = model_saved(**inputs)\n",
    "    pred_id = outputs.logits.argmax(dim=-1).item()\n",
    "    return model_saved.config.id2label[pred_id]\n",
    "\n",
    "print(predict_emotion(\"I feel so loved!\"))  # → Love"
   ]
  }
 ],
 "metadata": {
  "kernelspec": {
   "display_name": "Python 3",
   "language": "python",
   "name": "python3"
  },
  "language_info": {
   "codemirror_mode": {
    "name": "ipython",
    "version": 3
   },
   "file_extension": ".py",
   "mimetype": "text/x-python",
   "name": "python",
   "nbconvert_exporter": "python",
   "pygments_lexer": "ipython3",
   "version": "3.12.11"
  }
 },
 "nbformat": 4,
 "nbformat_minor": 5
}
